{
 "cells": [
  {
   "cell_type": "markdown",
   "metadata": {},
   "source": [
    "# Lab 1 – The Basics of Python and Pytorch"
   ]
  },
  {
   "cell_type": "markdown",
   "metadata": {},
   "source": [
    "员司雨 17307110448"
   ]
  },
  {
   "cell_type": "markdown",
   "metadata": {},
   "source": [
    "## Write a Python function to sum all the numbers in a list."
   ]
  },
  {
   "cell_type": "code",
   "execution_count": 1,
   "metadata": {},
   "outputs": [],
   "source": [
    "def sum_all_nums(ls):\n",
    "    s = 0\n",
    "    for ele in ls:\n",
    "        s = s + ele\n",
    "    return s"
   ]
  },
  {
   "cell_type": "code",
   "execution_count": 2,
   "metadata": {},
   "outputs": [
    {
     "name": "stdout",
     "output_type": "stream",
     "text": [
      "6\n"
     ]
    }
   ],
   "source": [
    "ls = [1,2,3]\n",
    "print(sum_all_nums(ls))"
   ]
  },
  {
   "cell_type": "markdown",
   "metadata": {},
   "source": [
    "## Write a Python function that takes a list and returns a new list with unique elements of the first list."
   ]
  },
  {
   "cell_type": "code",
   "execution_count": 3,
   "metadata": {},
   "outputs": [],
   "source": [
    "def unique_elements(nums):\n",
    "    H = {}\n",
    "    i = 0\n",
    "    while i < len(nums) :\n",
    "        if nums[i] in H.keys():\n",
    "            nums.pop(i)\n",
    "            continue\n",
    "        else:\n",
    "            H[nums[i]] = 1\n",
    "            i = i + 1\n",
    "    return ls"
   ]
  },
  {
   "cell_type": "code",
   "execution_count": 4,
   "metadata": {},
   "outputs": [
    {
     "data": {
      "text/plain": [
       "[1, 2, 3, 4, 5]"
      ]
     },
     "execution_count": 4,
     "metadata": {},
     "output_type": "execute_result"
    }
   ],
   "source": [
    "ls = [1, 2, 3, 3, 3, 3, 4, 5]\n",
    "result = unique_elements(ls)\n",
    "result"
   ]
  },
  {
   "cell_type": "markdown",
   "metadata": {},
   "source": [
    "## Write a Python function that checks whether a passed string is palindrome or not. A palindrome is a word, phrase, or sequence that reads the same backward as forward, e.g., madam or nurses run."
   ]
  },
  {
   "cell_type": "code",
   "execution_count": 5,
   "metadata": {},
   "outputs": [],
   "source": [
    "def palindrome(string):\n",
    "    string = string.replace(' ', '')\n",
    "    string = string.replace(',', '')\n",
    "    string = string.replace('.', '')\n",
    "    string2 = string[::-1]\n",
    "    if string == string2:\n",
    "        return True\n",
    "    return False"
   ]
  },
  {
   "cell_type": "code",
   "execution_count": 6,
   "metadata": {},
   "outputs": [
    {
     "data": {
      "text/plain": [
       "True"
      ]
     },
     "execution_count": 6,
     "metadata": {},
     "output_type": "execute_result"
    }
   ],
   "source": [
    "palindrome('madam')"
   ]
  },
  {
   "cell_type": "code",
   "execution_count": 7,
   "metadata": {},
   "outputs": [
    {
     "data": {
      "text/plain": [
       "True"
      ]
     },
     "execution_count": 7,
     "metadata": {},
     "output_type": "execute_result"
    }
   ],
   "source": [
    "palindrome('nurses run')"
   ]
  },
  {
   "cell_type": "code",
   "execution_count": 8,
   "metadata": {},
   "outputs": [
    {
     "data": {
      "text/plain": [
       "True"
      ]
     },
     "execution_count": 8,
     "metadata": {},
     "output_type": "execute_result"
    }
   ],
   "source": [
    "palindrome('you can, nac uoy.')"
   ]
  },
  {
   "cell_type": "code",
   "execution_count": 9,
   "metadata": {},
   "outputs": [
    {
     "data": {
      "text/plain": [
       "False"
      ]
     },
     "execution_count": 9,
     "metadata": {},
     "output_type": "execute_result"
    }
   ],
   "source": [
    "palindrome('madlam')"
   ]
  },
  {
   "cell_type": "markdown",
   "metadata": {},
   "source": [
    "## Write a NumPy program to find the real and imaginary parts of an array of complex numbers"
   ]
  },
  {
   "cell_type": "code",
   "execution_count": 10,
   "metadata": {},
   "outputs": [],
   "source": [
    "import numpy as np\n",
    "a = np.array( [1.00000000+0.j, 0.70710678+0.70710678j])"
   ]
  },
  {
   "cell_type": "code",
   "execution_count": 11,
   "metadata": {},
   "outputs": [],
   "source": [
    "def complex_find(a):\n",
    "    b = np.empty(shape = [0,2])\n",
    "    for i,j in enumerate(a):\n",
    "        b = np.append(b, [[j.real, j.imag]], axis = 0)\n",
    "    return b\n",
    "    \n",
    "b = complex_find(a)"
   ]
  },
  {
   "cell_type": "code",
   "execution_count": 12,
   "metadata": {},
   "outputs": [
    {
     "data": {
      "text/plain": [
       "array([[1.        , 0.        ],\n",
       "       [0.70710678, 0.70710678]])"
      ]
     },
     "execution_count": 12,
     "metadata": {},
     "output_type": "execute_result"
    }
   ],
   "source": [
    "b"
   ]
  },
  {
   "cell_type": "markdown",
   "metadata": {},
   "source": [
    "## Write a Python program to add two binary numbers."
   ]
  },
  {
   "cell_type": "code",
   "execution_count": 13,
   "metadata": {},
   "outputs": [],
   "source": [
    "b1 = '11'\n",
    "b2 = '1'"
   ]
  },
  {
   "cell_type": "code",
   "execution_count": 14,
   "metadata": {},
   "outputs": [],
   "source": [
    "def add_binary(b1, b2):\n",
    "    a1 = 0\n",
    "    a2 = 0\n",
    "    l1 = list(b1)\n",
    "    l1.reverse()\n",
    "    l2 = list(b2)\n",
    "    l2.reverse()\n",
    "    for i in range(len(l1)):\n",
    "        a1 = a1 + int(l1[i])* 2**i\n",
    "    for i in range(len(l2)):\n",
    "        a2 = a2 + int(l2[i])* 2**i\n",
    "    \n",
    "    s = int(a1 + a2)\n",
    "    r = []\n",
    "    while s != 0:\n",
    "        temp = s % 2\n",
    "        r.append(str(temp))\n",
    "        s = int(s/2)\n",
    "    r.reverse()\n",
    "    return ''.join(r)"
   ]
  },
  {
   "cell_type": "code",
   "execution_count": 15,
   "metadata": {},
   "outputs": [
    {
     "data": {
      "text/plain": [
       "'100'"
      ]
     },
     "execution_count": 15,
     "metadata": {},
     "output_type": "execute_result"
    }
   ],
   "source": [
    "result = add_binary(b1, b2)\n",
    "result"
   ]
  },
  {
   "cell_type": "markdown",
   "metadata": {},
   "source": [
    "## You are given two non-empty linked lists representing two non-negative integers. The digits are stored in reverse order and each of their nodes contain a single digit. Add the two numbers and return it as a linked list. You may assume the two numbers do not contain any leading zero, except the number 0 itself."
   ]
  },
  {
   "cell_type": "code",
   "execution_count": 16,
   "metadata": {},
   "outputs": [],
   "source": [
    "# Definition for singly-linked list.\n",
    "# class ListNode(object):\n",
    "#     def __init__(self, x):\n",
    "#         self.val = x\n",
    "#         self.next = None\n",
    "\n",
    "class Solution(object):\n",
    "    def addTwoNumbers(self, l1, l2):\n",
    "        \"\"\"\n",
    "        :type l1: ListNode\n",
    "        :type l2: ListNode\n",
    "        :rtype: ListNode\n",
    "        \"\"\"\n",
    "        ls = 0\n",
    "        flag = 0\n",
    "        while l1 is not None and l2 is not None:\n",
    "            ls = ls + l1.val * (10 ** flag) + l2.val * (10 ** flag)\n",
    "            l1 = l1.next\n",
    "            l2 = l2.next\n",
    "            flag = flag + 1\n",
    "        while l1 is not None:\n",
    "            ls = ls + l1.val * (10 ** flag)\n",
    "            l1 = l1.next\n",
    "            flag = flag + 1\n",
    "        while l2 is not None:\n",
    "            ls = ls + l2.val * (10 ** flag)\n",
    "            l2 = l2.next\n",
    "            flag = flag + 1\n",
    "        if ls == 0:\n",
    "            return ListNode(0)\n",
    "        r = []\n",
    "        while ls != 0:\n",
    "            r.append(ls % 10)\n",
    "            ls = ls/10\n",
    "        l3 = ListNode(r.pop(0))\n",
    "        head = l3\n",
    "        while len(r) != 0:\n",
    "            l3.next = ListNode(r.pop(0))\n",
    "            l3 = l3.next\n",
    "        return head"
   ]
  },
  {
   "cell_type": "markdown",
   "metadata": {},
   "source": [
    "## Implement bubble sort"
   ]
  },
  {
   "cell_type": "code",
   "execution_count": 17,
   "metadata": {},
   "outputs": [],
   "source": [
    "def bubbleSort(lists):\n",
    "    \"\"\"\n",
    "    :type lists: List[float]\n",
    "    :rtype: List[float]\n",
    "    \"\"\"\n",
    "    l = len(lists)\n",
    "    for i in range(l-1):\n",
    "        for j in range(i+1, l):\n",
    "            if lists[i] > lists[j]:\n",
    "                temp = lists[i]\n",
    "                lists[i] = lists[j]\n",
    "                lists[j] = temp\n",
    "    return lists"
   ]
  },
  {
   "cell_type": "code",
   "execution_count": 18,
   "metadata": {},
   "outputs": [
    {
     "data": {
      "text/plain": [
       "[0, 1, 2, 3, 4, 6, 8]"
      ]
     },
     "execution_count": 18,
     "metadata": {},
     "output_type": "execute_result"
    }
   ],
   "source": [
    "ls=[2,4,1,6,8,3,0]\n",
    "ls=bubbleSort(ls)\n",
    "ls"
   ]
  },
  {
   "cell_type": "markdown",
   "metadata": {},
   "source": [
    "## Implement merge sort"
   ]
  },
  {
   "cell_type": "code",
   "execution_count": 19,
   "metadata": {},
   "outputs": [],
   "source": [
    "def mergeSort(lists):\n",
    "    \"\"\"\n",
    "    :type lists: List[float]\n",
    "    :rtype: List[float]\n",
    "    \"\"\"\n",
    "          \n",
    "    def merge(lists,p,q,r):\n",
    "        n_1 = q-p+1\n",
    "        n_2 = r-q\n",
    "        L = []\n",
    "        R = []\n",
    "        for i in range(0,n_1):\n",
    "            L.append(lists[p+i-1])\n",
    "        for j in range(0,n_2):\n",
    "            R.append(lists[q+j])\n",
    "        inf = float(\"inf\")\n",
    "        L.append(inf)\n",
    "        R.append(inf)\n",
    "        i = 0\n",
    "        j = 0\n",
    "        for k in range(p-1,r):\n",
    "            if  L[i] <= R[j]:\n",
    "                lists[k] = L[i]\n",
    "                i = i+1\n",
    "            else:\n",
    "                lists[k] = R[j]\n",
    "                j = j+1\n",
    "        return lists\n",
    "\n",
    "    def merge_Sort(lists,p,r):\n",
    "        if p<r:\n",
    "            q = int((p+r)/2)\n",
    "            merge_Sort(lists,p,q)\n",
    "            merge_Sort(lists,q+1,r)\n",
    "            merge(lists,p,q,r)\n",
    "        return lists \n",
    "\n",
    "    A = lists[:]\n",
    "    n = len(A)\n",
    "    p = 1\n",
    "    r = n\n",
    "    B = merge_Sort(A,p,r)\n",
    "    return B "
   ]
  },
  {
   "cell_type": "code",
   "execution_count": 20,
   "metadata": {},
   "outputs": [
    {
     "data": {
      "text/plain": [
       "[0, 1, 2, 3, 4, 6, 8]"
      ]
     },
     "execution_count": 20,
     "metadata": {},
     "output_type": "execute_result"
    }
   ],
   "source": [
    "ls=[2,4,1,6,8,3,0]\n",
    "ls=mergeSort(ls)\n",
    "ls"
   ]
  },
  {
   "cell_type": "markdown",
   "metadata": {},
   "source": [
    "## Implement quick sort"
   ]
  },
  {
   "cell_type": "code",
   "execution_count": 21,
   "metadata": {},
   "outputs": [],
   "source": [
    "def quick(A, p, r):\n",
    "    if p < r:\n",
    "        q = partition(A, p, r)\n",
    "        quick(A, p, q-1)\n",
    "        quick(A, q+1, r)\n",
    "\n",
    "def partition(A, p, r):\n",
    "    x = A[r]\n",
    "    i = p-1\n",
    "    for j in range(p, r):\n",
    "        if A[j] <= x:\n",
    "            i = i+1\n",
    "            A[i], A[j] = A[j], A[i]\n",
    "            \n",
    "            \n",
    "    A[i+1], A[r] = A[r], A[i+1]\n",
    "    return i+1\n",
    "\n",
    "def quickSort(A):\n",
    "    \"\"\"\n",
    "    :type lists: List[float]\n",
    "    :rtype: List[float]\n",
    "    \"\"\"\n",
    "    n = len(A)\n",
    "    p = 0\n",
    "    r = n-1\n",
    "    quick(A, p, r)\n",
    "\n"
   ]
  },
  {
   "cell_type": "code",
   "execution_count": 22,
   "metadata": {},
   "outputs": [
    {
     "data": {
      "text/plain": [
       "[0, 1, 2, 3, 4, 6, 8]"
      ]
     },
     "execution_count": 22,
     "metadata": {},
     "output_type": "execute_result"
    }
   ],
   "source": [
    "ls=[2,4,1,6,8,3,0]\n",
    "quickSort(ls)\n",
    "ls"
   ]
  },
  {
   "cell_type": "markdown",
   "metadata": {},
   "source": [
    "## Implement shell sort"
   ]
  },
  {
   "cell_type": "code",
   "execution_count": 23,
   "metadata": {},
   "outputs": [],
   "source": [
    "def shellSort(A):\n",
    "    l = len(A)\n",
    "    key = round(l/2)\n",
    "    while key > 0:\n",
    "        for i in range(key, l):\n",
    "            temp = A[i]\n",
    "            j = i\n",
    "            while j >= key and A[j-key] > temp:\n",
    "                A[j] = A[j-key]\n",
    "                j = j-key\n",
    "            A[j] = temp\n",
    "        key = round(key/2)\n",
    "    return A"
   ]
  },
  {
   "cell_type": "code",
   "execution_count": 24,
   "metadata": {},
   "outputs": [
    {
     "data": {
      "text/plain": [
       "[0, 1, 2, 3, 4, 6, 8]"
      ]
     },
     "execution_count": 24,
     "metadata": {},
     "output_type": "execute_result"
    }
   ],
   "source": [
    "ls=[2,4,1,6,8,3,0]\n",
    "ls=shellSort(ls)\n",
    "ls"
   ]
  },
  {
   "cell_type": "markdown",
   "metadata": {},
   "source": [
    "## Implement linear regression model and use autograd to optimize it by Pytorch."
   ]
  },
  {
   "cell_type": "code",
   "execution_count": 25,
   "metadata": {},
   "outputs": [],
   "source": [
    "import torch\n",
    "import torch.nn as nn\n",
    "import torch.optim as optim"
   ]
  },
  {
   "cell_type": "code",
   "execution_count": 26,
   "metadata": {},
   "outputs": [],
   "source": [
    "SEED = 1234\n",
    "torch.manual_seed(SEED)\n",
    "x = torch.rand(256,1)\n",
    "y = torch.rand(256,1)"
   ]
  },
  {
   "cell_type": "code",
   "execution_count": 27,
   "metadata": {},
   "outputs": [],
   "source": [
    "model = nn.Linear(1,1)\n",
    "loss_fn = nn.MSELoss()\n",
    "optimizer = optim.SGD(model.parameters(), lr = 0.01)\n",
    "epochs = 300"
   ]
  },
  {
   "cell_type": "code",
   "execution_count": 28,
   "metadata": {},
   "outputs": [
    {
     "name": "stdout",
     "output_type": "stream",
     "text": [
      "0 0.3487284481525421\n",
      "50 0.11589482426643372\n",
      "100 0.09488625824451447\n",
      "150 0.0905403345823288\n",
      "200 0.08780194073915482\n",
      "250 0.08547420799732208\n",
      "299 0.08346918225288391\n"
     ]
    }
   ],
   "source": [
    "for i in range(epochs):\n",
    "    inputs = x\n",
    "    labels = y\n",
    "    outputs = model(inputs)\n",
    "    loss = loss_fn(outputs, labels)\n",
    "    optimizer.zero_grad()\n",
    "    loss.backward()\n",
    "    optimizer.step()\n",
    "    if i % 50 == 0:\n",
    "        print(i, loss.item())\n",
    "        \n",
    "print(i, loss.item())\n",
    "    "
   ]
  },
  {
   "cell_type": "code",
   "execution_count": 29,
   "metadata": {},
   "outputs": [
    {
     "data": {
      "text/plain": [
       "odict_keys(['weight', 'bias'])"
      ]
     },
     "execution_count": 29,
     "metadata": {},
     "output_type": "execute_result"
    }
   ],
   "source": [
    "model.state_dict().keys()"
   ]
  },
  {
   "cell_type": "code",
   "execution_count": 30,
   "metadata": {},
   "outputs": [
    {
     "data": {
      "text/plain": [
       "Parameter containing:\n",
       "tensor([[0.4247]], requires_grad=True)"
      ]
     },
     "execution_count": 30,
     "metadata": {},
     "output_type": "execute_result"
    }
   ],
   "source": [
    "model.weight"
   ]
  },
  {
   "cell_type": "code",
   "execution_count": 31,
   "metadata": {},
   "outputs": [
    {
     "data": {
      "text/plain": [
       "Parameter containing:\n",
       "tensor([0.2978], requires_grad=True)"
      ]
     },
     "execution_count": 31,
     "metadata": {},
     "output_type": "execute_result"
    }
   ],
   "source": [
    "model.bias"
   ]
  },
  {
   "cell_type": "markdown",
   "metadata": {},
   "source": [
    "## Implement logistic regression model and use autograd to optimize it by Pytorch."
   ]
  },
  {
   "cell_type": "code",
   "execution_count": 32,
   "metadata": {},
   "outputs": [],
   "source": [
    "import torch\n",
    "import torch.nn as nn\n",
    "import torch.optim as optim\n",
    "import torch.nn.functional as F"
   ]
  },
  {
   "cell_type": "code",
   "execution_count": 33,
   "metadata": {},
   "outputs": [],
   "source": [
    "class logistic(nn.Module):\n",
    "    def __init__(self):\n",
    "        super(logistic, self).__init__()\n",
    "        self.fc = nn.Linear(2,1)\n",
    "        \n",
    "    def forward(self, x):\n",
    "        score = self.fc(x)\n",
    "        return F.sigmoid(score)"
   ]
  },
  {
   "cell_type": "code",
   "execution_count": 34,
   "metadata": {},
   "outputs": [],
   "source": [
    "SEED = 1234\n",
    "torch.manual_seed(SEED)\n",
    "x = torch.rand(256,2).type(torch.FloatTensor)\n",
    "y1 = torch.zeros(128,1)\n",
    "y2 = torch.ones(128,1)\n",
    "y = torch.cat((y1,y2),0)"
   ]
  },
  {
   "cell_type": "code",
   "execution_count": 35,
   "metadata": {},
   "outputs": [],
   "source": [
    "model = logistic()\n",
    "loss_fn = nn.BCEWithLogitsLoss()\n",
    "optimizer = torch.optim.Adam(model.parameters())\n",
    "epochs = 300"
   ]
  },
  {
   "cell_type": "code",
   "execution_count": 36,
   "metadata": {},
   "outputs": [
    {
     "name": "stderr",
     "output_type": "stream",
     "text": [
      "E:\\anaconda3\\lib\\site-packages\\torch\\nn\\functional.py:1351: UserWarning: nn.functional.sigmoid is deprecated. Use torch.sigmoid instead.\n",
      "  warnings.warn(\"nn.functional.sigmoid is deprecated. Use torch.sigmoid instead.\")\n"
     ]
    },
    {
     "name": "stdout",
     "output_type": "stream",
     "text": [
      "0 0.723075270652771\n",
      "50 0.7202138900756836\n",
      "100 0.7175729274749756\n",
      "150 0.7151684761047363\n",
      "200 0.7130001187324524\n",
      "250 0.7110595703125\n",
      "299 0.7093658447265625\n"
     ]
    }
   ],
   "source": [
    "for i in range(epochs):\n",
    "    outputs = model(x)\n",
    "    y = y.type_as(outputs)\n",
    "    loss = loss_fn(outputs, y)\n",
    "    optimizer.zero_grad()\n",
    "    loss.backward()\n",
    "    optimizer.step()\n",
    "    if i % 50 == 0:\n",
    "        print(i, loss.item())\n",
    "        \n",
    "print(i, loss.item())"
   ]
  },
  {
   "cell_type": "markdown",
   "metadata": {},
   "source": [
    "## Implement linear SVM model for binary classification task and use autograd to optimize it by Pytorch."
   ]
  },
  {
   "cell_type": "code",
   "execution_count": 37,
   "metadata": {},
   "outputs": [],
   "source": [
    "import torch\n",
    "import torch.nn as nn\n",
    "import torch.optim as optim\n",
    "import torch.nn.functional as F"
   ]
  },
  {
   "cell_type": "code",
   "execution_count": 38,
   "metadata": {},
   "outputs": [],
   "source": [
    "class SVM(nn.Module):\n",
    "    def __init__(self):\n",
    "        super(SVM, self).__init__()\n",
    "        self.fc = nn.Linear(2,1)\n",
    "        \n",
    "    def forward(self, x):\n",
    "        score = self.fc(x)\n",
    "        return score"
   ]
  },
  {
   "cell_type": "code",
   "execution_count": 39,
   "metadata": {},
   "outputs": [],
   "source": [
    "SEED = 1234\n",
    "torch.manual_seed(SEED)\n",
    "x = torch.rand(256,2).type(torch.FloatTensor)\n",
    "y1 = torch.zeros(128,1)\n",
    "y2 = torch.ones(128,1)\n",
    "y = torch.cat((y1,y2),0)"
   ]
  },
  {
   "cell_type": "code",
   "execution_count": 40,
   "metadata": {},
   "outputs": [],
   "source": [
    "model = SVM()\n",
    "optimizer = torch.optim.Adam(model.parameters())\n",
    "epochs = 300"
   ]
  },
  {
   "cell_type": "code",
   "execution_count": 41,
   "metadata": {},
   "outputs": [
    {
     "name": "stderr",
     "output_type": "stream",
     "text": [
      "E:\\anaconda3\\lib\\site-packages\\torch\\nn\\functional.py:1351: UserWarning: nn.functional.sigmoid is deprecated. Use torch.sigmoid instead.\n",
      "  warnings.warn(\"nn.functional.sigmoid is deprecated. Use torch.sigmoid instead.\")\n"
     ]
    },
    {
     "name": "stdout",
     "output_type": "stream",
     "text": [
      "0 0.750423789024353\n",
      "50 0.7379366159439087\n",
      "100 0.7256088256835938\n",
      "150 0.7135442495346069\n",
      "200 0.7018307447433472\n",
      "250 0.6905401945114136\n",
      "299 0.6799389123916626\n"
     ]
    }
   ],
   "source": [
    "for i in range(epochs):\n",
    "    outputs = model(x)\n",
    "    outputs = F.sigmoid(outputs)\n",
    "    y = y.type_as(outputs)\n",
    "    loss = torch.mean(torch.clamp(1 - outputs.t() * y, min=0))  # hinge loss\n",
    "    optimizer.zero_grad()\n",
    "    loss.backward()\n",
    "    optimizer.step()\n",
    "    if i % 50 == 0:\n",
    "        print(i, loss.item())\n",
    "        \n",
    "print(i, loss.item())"
   ]
  },
  {
   "cell_type": "markdown",
   "metadata": {},
   "source": [
    "## Add a Frobenius norm penalty for the weight w in your SVM model by two different ways.."
   ]
  },
  {
   "cell_type": "markdown",
   "metadata": {},
   "source": [
    "l2 penalty"
   ]
  },
  {
   "cell_type": "code",
   "execution_count": 42,
   "metadata": {},
   "outputs": [],
   "source": [
    "model = SVM()\n",
    "optimizer = torch.optim.Adam(model.parameters())\n",
    "epochs = 300"
   ]
  },
  {
   "cell_type": "code",
   "execution_count": 43,
   "metadata": {},
   "outputs": [
    {
     "name": "stdout",
     "output_type": "stream",
     "text": [
      "0 0.6865286231040955\n"
     ]
    },
    {
     "name": "stderr",
     "output_type": "stream",
     "text": [
      "E:\\anaconda3\\lib\\site-packages\\torch\\nn\\functional.py:1351: UserWarning: nn.functional.sigmoid is deprecated. Use torch.sigmoid instead.\n",
      "  warnings.warn(\"nn.functional.sigmoid is deprecated. Use torch.sigmoid instead.\")\n"
     ]
    },
    {
     "name": "stdout",
     "output_type": "stream",
     "text": [
      "50 0.6754183769226074\n",
      "100 0.6649170517921448\n",
      "150 0.6550771594047546\n",
      "200 0.645911693572998\n",
      "250 0.6374163031578064\n",
      "299 0.6297248601913452\n"
     ]
    }
   ],
   "source": [
    "for i in range(epochs):\n",
    "    outputs = model(x)\n",
    "    outputs = F.sigmoid(outputs)\n",
    "    y = y.type_as(outputs)\n",
    "    loss = torch.mean(torch.clamp(1 - outputs.t() * y, min=0))  # hinge loss\n",
    "    loss += 0.01 * torch.mean(model.fc.weight ** 2)  # l2 penalty\n",
    "    optimizer.zero_grad()\n",
    "    loss.backward()\n",
    "    optimizer.step()\n",
    "    if i % 50 == 0:\n",
    "        print(i, loss.item())\n",
    "        \n",
    "print(i, loss.item())"
   ]
  },
  {
   "cell_type": "markdown",
   "metadata": {},
   "source": [
    "l1 penalty"
   ]
  },
  {
   "cell_type": "code",
   "execution_count": 44,
   "metadata": {},
   "outputs": [],
   "source": [
    "model = SVM()\n",
    "optimizer = torch.optim.Adam(model.parameters())\n",
    "epochs = 300"
   ]
  },
  {
   "cell_type": "code",
   "execution_count": 45,
   "metadata": {},
   "outputs": [
    {
     "name": "stdout",
     "output_type": "stream",
     "text": [
      "0 0.7936167120933533\n",
      "50 0.7812798023223877\n"
     ]
    },
    {
     "name": "stderr",
     "output_type": "stream",
     "text": [
      "E:\\anaconda3\\lib\\site-packages\\torch\\nn\\functional.py:1351: UserWarning: nn.functional.sigmoid is deprecated. Use torch.sigmoid instead.\n",
      "  warnings.warn(\"nn.functional.sigmoid is deprecated. Use torch.sigmoid instead.\")\n"
     ]
    },
    {
     "name": "stdout",
     "output_type": "stream",
     "text": [
      "100 0.7687838673591614\n",
      "150 0.7562322616577148\n",
      "200 0.7437394261360168\n",
      "250 0.7314152121543884\n",
      "299 0.7195972800254822\n"
     ]
    }
   ],
   "source": [
    "for i in range(epochs):\n",
    "    outputs = model(x)\n",
    "    outputs = F.sigmoid(outputs)\n",
    "    y = y.type_as(outputs)\n",
    "    loss = torch.mean(torch.clamp(1 - outputs.t() * y, min=0))  # hinge loss\n",
    "    loss += 0.01 * torch.mean(abs(model.fc.weight))  # l1 penalty\n",
    "    optimizer.zero_grad()\n",
    "    loss.backward()\n",
    "    optimizer.step()\n",
    "    if i % 50 == 0:\n",
    "        print(i, loss.item())\n",
    "        \n",
    "print(i, loss.item())"
   ]
  },
  {
   "cell_type": "markdown",
   "metadata": {},
   "source": [
    "## Learn how to use linear regression, logistic regression, and SVM by scikit-learn."
   ]
  },
  {
   "cell_type": "markdown",
   "metadata": {},
   "source": [
    "### linear regression"
   ]
  },
  {
   "cell_type": "code",
   "execution_count": 46,
   "metadata": {},
   "outputs": [
    {
     "data": {
      "text/plain": [
       "LinearRegression(copy_X=True, fit_intercept=True, n_jobs=1, normalize=False)"
      ]
     },
     "execution_count": 46,
     "metadata": {},
     "output_type": "execute_result"
    }
   ],
   "source": [
    "from sklearn import linear_model\n",
    "\n",
    "reg = linear_model.LinearRegression()\n",
    "reg.fit([[0, 0], [1, 1], [2, 2]], [0, 1, 2])"
   ]
  },
  {
   "cell_type": "code",
   "execution_count": 47,
   "metadata": {},
   "outputs": [
    {
     "data": {
      "text/plain": [
       "array([0.5, 0.5])"
      ]
     },
     "execution_count": 47,
     "metadata": {},
     "output_type": "execute_result"
    }
   ],
   "source": [
    "reg.coef_"
   ]
  },
  {
   "cell_type": "markdown",
   "metadata": {},
   "source": [
    "### logistic regression"
   ]
  },
  {
   "cell_type": "code",
   "execution_count": 48,
   "metadata": {},
   "outputs": [],
   "source": [
    "from sklearn.datasets import load_iris\n",
    "from sklearn import linear_model\n",
    "X, y = load_iris(return_X_y=True)\n",
    "clf = linear_model.LogisticRegression(random_state=0).fit(X, y)"
   ]
  },
  {
   "cell_type": "code",
   "execution_count": 49,
   "metadata": {},
   "outputs": [
    {
     "data": {
      "text/plain": [
       "array([0, 0])"
      ]
     },
     "execution_count": 49,
     "metadata": {},
     "output_type": "execute_result"
    }
   ],
   "source": [
    "clf.predict(X[:2, :])"
   ]
  },
  {
   "cell_type": "code",
   "execution_count": 50,
   "metadata": {},
   "outputs": [
    {
     "data": {
      "text/plain": [
       "array([[8.79681649e-01, 1.20307538e-01, 1.08131372e-05],\n",
       "       [7.99706325e-01, 2.00263292e-01, 3.03825365e-05]])"
      ]
     },
     "execution_count": 50,
     "metadata": {},
     "output_type": "execute_result"
    }
   ],
   "source": [
    "clf.predict_proba(X[:2, :])"
   ]
  },
  {
   "cell_type": "code",
   "execution_count": 51,
   "metadata": {},
   "outputs": [
    {
     "data": {
      "text/plain": [
       "0.96"
      ]
     },
     "execution_count": 51,
     "metadata": {},
     "output_type": "execute_result"
    }
   ],
   "source": [
    "clf.score(X, y)"
   ]
  },
  {
   "cell_type": "markdown",
   "metadata": {},
   "source": [
    "### SVM"
   ]
  },
  {
   "cell_type": "code",
   "execution_count": 52,
   "metadata": {},
   "outputs": [
    {
     "data": {
      "text/plain": [
       "SVC(C=1.0, cache_size=200, class_weight=None, coef0=0.0,\n",
       "  decision_function_shape='ovr', degree=3, gamma='auto', kernel='rbf',\n",
       "  max_iter=-1, probability=False, random_state=None, shrinking=True,\n",
       "  tol=0.001, verbose=False)"
      ]
     },
     "execution_count": 52,
     "metadata": {},
     "output_type": "execute_result"
    }
   ],
   "source": [
    "from sklearn import svm\n",
    "X = [[0, 0], [1, 1]]\n",
    "y = [0, 1]\n",
    "clf = svm.SVC()\n",
    "clf.fit(X, y)"
   ]
  },
  {
   "cell_type": "code",
   "execution_count": 53,
   "metadata": {},
   "outputs": [
    {
     "data": {
      "text/plain": [
       "array([1])"
      ]
     },
     "execution_count": 53,
     "metadata": {},
     "output_type": "execute_result"
    }
   ],
   "source": [
    "clf.predict([[2., 2.]])"
   ]
  },
  {
   "cell_type": "code",
   "execution_count": 54,
   "metadata": {},
   "outputs": [
    {
     "data": {
      "text/plain": [
       "array([[0., 0.],\n",
       "       [1., 1.]])"
      ]
     },
     "execution_count": 54,
     "metadata": {},
     "output_type": "execute_result"
    }
   ],
   "source": [
    "clf.support_vectors_"
   ]
  },
  {
   "cell_type": "markdown",
   "metadata": {},
   "source": [
    "## Download CIFAR-10 dataset and visualize some of its images."
   ]
  },
  {
   "cell_type": "code",
   "execution_count": 55,
   "metadata": {},
   "outputs": [],
   "source": [
    "import torch \n",
    "import torch.nn as nn\n",
    "import torch.nn.functional as F\n",
    "import torch.optim as optim\n",
    "from torchvision import datasets, transforms"
   ]
  },
  {
   "cell_type": "code",
   "execution_count": 56,
   "metadata": {},
   "outputs": [
    {
     "name": "stdout",
     "output_type": "stream",
     "text": [
      "Files already downloaded and verified\n"
     ]
    }
   ],
   "source": [
    "CIFAR_data = datasets.CIFAR10(\"./CIFAR_data\", train = True, download = True)"
   ]
  },
  {
   "cell_type": "code",
   "execution_count": 57,
   "metadata": {},
   "outputs": [],
   "source": [
    "from torchvision.transforms import ToPILImage\n",
    "show = ToPILImage()\n",
    "(data, label) = CIFAR_data[66]  "
   ]
  },
  {
   "cell_type": "code",
   "execution_count": 58,
   "metadata": {},
   "outputs": [
    {
     "data": {
      "image/png": "[encoded data removed]",
      "text/plain": [
       "<PIL.Image.Image image mode=RGB size=32x32 at 0x244C1968860>"
      ]
     },
     "execution_count": 58,
     "metadata": {},
     "output_type": "execute_result"
    }
   ],
   "source": [
    "data"
   ]
  },
  {
   "cell_type": "markdown",
   "metadata": {},
   "source": [
    "## Write a dataset class for loading CIFAR-10. Make sure it could be transferred to Pytorch Dataloader."
   ]
  },
  {
   "cell_type": "code",
   "execution_count": 59,
   "metadata": {},
   "outputs": [],
   "source": [
    "from PIL import Image\n",
    "import torch\n",
    "from torchvision import transforms\n",
    "\n",
    "class MyDataset(torch.utils.data.Dataset):\n",
    "    def __init__(self, dic):\n",
    "        super(MyDataset,self).__init__()\n",
    "        imgs = []\n",
    "        l = len(dic[b'labels'])\n",
    "        for i in range(l):\n",
    "            data = torch.from_numpy(dic[b'data'][i])\n",
    "            label = torch.from_numpy(np.array(dic[b'labels'][i]))\n",
    "            imgs.append((data, label))\n",
    "        self.imgs = imgs\n",
    "        \n",
    "        \n",
    "    def __len__(self):\n",
    "        return len(self.imgs)\n",
    "    \n",
    "    def __getitem__(self, index):    \n",
    "        img, label = self.imgs[index]\n",
    "\n",
    "        return img,label"
   ]
  },
  {
   "cell_type": "code",
   "execution_count": 60,
   "metadata": {},
   "outputs": [],
   "source": [
    "import pickle\n",
    "def unpickle(file): \n",
    "    with open(file, 'rb') as fo:\n",
    "        dic = pickle.load(fo, encoding='bytes')\n",
    "    return dic"
   ]
  },
  {
   "cell_type": "code",
   "execution_count": 61,
   "metadata": {},
   "outputs": [],
   "source": [
    "path = './CIFAR_data/cifar-10-batches-py/data_batch_1'"
   ]
  },
  {
   "cell_type": "code",
   "execution_count": 62,
   "metadata": {},
   "outputs": [],
   "source": [
    "dic = unpickle(path)"
   ]
  },
  {
   "cell_type": "code",
   "execution_count": 63,
   "metadata": {},
   "outputs": [
    {
     "data": {
      "text/plain": [
       "dict_keys([b'batch_label', b'labels', b'data', b'filenames'])"
      ]
     },
     "execution_count": 63,
     "metadata": {},
     "output_type": "execute_result"
    }
   ],
   "source": [
    "dic.keys()"
   ]
  },
  {
   "cell_type": "code",
   "execution_count": 64,
   "metadata": {},
   "outputs": [],
   "source": [
    "train_data = MyDataset(dic)"
   ]
  },
  {
   "cell_type": "code",
   "execution_count": 65,
   "metadata": {},
   "outputs": [],
   "source": [
    "import torch.utils.data as tud\n",
    "train_loader = tud.DataLoader(dataset=train_data, batch_size=4, shuffle=True)"
   ]
  },
  {
   "cell_type": "code",
   "execution_count": 66,
   "metadata": {},
   "outputs": [
    {
     "name": "stdout",
     "output_type": "stream",
     "text": [
      "tensor([[139, 112, 114,  ...,  43,  33,  34],\n",
      "        [ 85,  91,  94,  ..., 174, 172, 164],\n",
      "        [ 45,  32,  29,  ...,  81,  79,  72],\n",
      "        [255, 254, 253,  ..., 127, 129, 131]], dtype=torch.uint8) tensor([2, 8, 5, 5], dtype=torch.int32)\n",
      "tensor([[181, 183, 188,  ..., 103, 103,  99],\n",
      "        [221, 219, 221,  ..., 153, 152, 150],\n",
      "        [255, 253, 254,  ..., 159, 172, 247],\n",
      "        [ 58,  58,  59,  ...,  23,  20,  20]], dtype=torch.uint8) tensor([8, 9, 9, 9], dtype=torch.int32)\n",
      "tensor([[107, 107, 108,  ..., 234, 234, 234],\n",
      "        [195, 129, 108,  ..., 121, 122, 120],\n",
      "        [144, 141, 140,  ...,  52, 173, 203],\n",
      "        [255, 255, 255,  ..., 255, 255, 255]], dtype=torch.uint8) tensor([2, 8, 9, 0], dtype=torch.int32)\n",
      "tensor([[ 77,  27,  21,  ...,  24,  16,  21],\n",
      "        [ 93, 118, 138,  ..., 141, 133, 132],\n",
      "        [ 70,  74,  78,  ..., 131, 131, 131],\n",
      "        [138, 132, 119,  ...,  52,  74,  65]], dtype=torch.uint8) tensor([6, 4, 0, 6], dtype=torch.int32)\n",
      "tensor([[213, 214, 214,  ..., 218, 226, 211],\n",
      "        [253, 251, 251,  ...,  87,  87,  88],\n",
      "        [196, 195, 197,  ..., 174, 173, 170],\n",
      "        [131, 129, 122,  ...,  75,  66,  52]], dtype=torch.uint8) tensor([0, 8, 0, 0], dtype=torch.int32)\n",
      "tensor([[ 76, 132, 179,  ...,  53,  54,  53],\n",
      "        [168, 170, 172,  ..., 239, 244, 242],\n",
      "        [ 47,  44,  47,  ..., 189, 188, 191],\n",
      "        [ 31,  36,  35,  ...,  80, 100, 101]], dtype=torch.uint8) tensor([6, 8, 5, 4], dtype=torch.int32)\n",
      "tensor([[161, 145, 136,  ...,  61,  55,  50],\n",
      "        [137, 141, 141,  ..., 131, 124, 122],\n",
      "        [ 98, 129, 123,  ..., 105, 102, 107],\n",
      "        [137, 138, 142,  ..., 117, 130, 144]], dtype=torch.uint8) tensor([5, 7, 7, 9], dtype=torch.int32)\n"
     ]
    }
   ],
   "source": [
    "for i, (img,label) in enumerate(train_loader):\n",
    "    print(img,label)\n",
    "    if i>5:\n",
    "        break"
   ]
  },
  {
   "cell_type": "markdown",
   "metadata": {},
   "source": [
    "## Read and learn how to use torchvision.transforms to transform images."
   ]
  },
  {
   "cell_type": "code",
   "execution_count": 67,
   "metadata": {},
   "outputs": [
    {
     "name": "stdout",
     "output_type": "stream",
     "text": [
      "Files already downloaded and verified\n"
     ]
    }
   ],
   "source": [
    "CIFAR_data = datasets.CIFAR10(\"./CIFAR_data\", train = True, download = True,\n",
    "                           transform = transforms.Compose([\n",
    "                               transforms.ToTensor()\n",
    "                           ]))"
   ]
  },
  {
   "cell_type": "markdown",
   "metadata": {},
   "source": [
    "## Run one epoch for loading CIFAR-10 with Pytorch Dataloader and test the loading time of different batch_size(1, 4, 64, 1024), different num_workers (0,1,4,16), and whether use pin_memory or not."
   ]
  },
  {
   "cell_type": "code",
   "execution_count": 68,
   "metadata": {},
   "outputs": [],
   "source": [
    "import numpy as np\n",
    "data = [d[0].data.cpu().numpy() for d in CIFAR_data]"
   ]
  },
  {
   "cell_type": "code",
   "execution_count": 69,
   "metadata": {},
   "outputs": [
    {
     "data": {
      "text/plain": [
       "0.4733649"
      ]
     },
     "execution_count": 69,
     "metadata": {},
     "output_type": "execute_result"
    }
   ],
   "source": [
    "np.mean(data)"
   ]
  },
  {
   "cell_type": "code",
   "execution_count": 70,
   "metadata": {},
   "outputs": [
    {
     "data": {
      "text/plain": [
       "0.25156906"
      ]
     },
     "execution_count": 70,
     "metadata": {},
     "output_type": "execute_result"
    }
   ],
   "source": [
    "np.std(data)"
   ]
  },
  {
   "cell_type": "code",
   "execution_count": 71,
   "metadata": {},
   "outputs": [
    {
     "name": "stdout",
     "output_type": "stream",
     "text": [
      "batch_size:1,num_workers:0,pin_memory:True,time:0.9753478999999999\n",
      "batch_size:1,num_workers:0,pin_memory:False,time:1.2739854\n",
      "batch_size:1,num_workers:1,pin_memory:True,time:1.1232030000000002\n",
      "batch_size:1,num_workers:1,pin_memory:False,time:0.9558689\n",
      "batch_size:1,num_workers:4,pin_memory:True,time:1.1397237999999996\n",
      "batch_size:1,num_workers:4,pin_memory:False,time:1.2129951000000005\n",
      "batch_size:1,num_workers:16,pin_memory:True,time:1.2416654999999999\n",
      "batch_size:1,num_workers:16,pin_memory:False,time:0.9919113999999993\n",
      "batch_size:4,num_workers:0,pin_memory:True,time:1.2299015999999998\n",
      "batch_size:4,num_workers:0,pin_memory:False,time:1.1657814000000002\n",
      "batch_size:4,num_workers:1,pin_memory:True,time:1.4750429\n",
      "batch_size:4,num_workers:1,pin_memory:False,time:1.2462859999999996\n",
      "batch_size:4,num_workers:4,pin_memory:True,time:1.1825332\n",
      "batch_size:4,num_workers:4,pin_memory:False,time:1.3333685999999982\n",
      "batch_size:4,num_workers:16,pin_memory:True,time:1.527167500000001\n",
      "batch_size:4,num_workers:16,pin_memory:False,time:1.0787894999999992\n",
      "batch_size:64,num_workers:0,pin_memory:True,time:0.981024399999999\n",
      "batch_size:64,num_workers:0,pin_memory:False,time:1.1146554000000002\n",
      "batch_size:64,num_workers:1,pin_memory:True,time:1.2032193000000007\n",
      "batch_size:64,num_workers:1,pin_memory:False,time:1.0801030000000011\n",
      "batch_size:64,num_workers:4,pin_memory:True,time:1.5403020000000005\n",
      "batch_size:64,num_workers:4,pin_memory:False,time:1.637077999999999\n",
      "batch_size:64,num_workers:16,pin_memory:True,time:1.4535238999999969\n",
      "batch_size:64,num_workers:16,pin_memory:False,time:1.4103004999999982\n",
      "batch_size:1024,num_workers:0,pin_memory:True,time:1.1006896000000026\n",
      "batch_size:1024,num_workers:0,pin_memory:False,time:1.1753299000000013\n",
      "batch_size:1024,num_workers:1,pin_memory:True,time:1.1871640000000028\n",
      "batch_size:1024,num_workers:1,pin_memory:False,time:1.1201825000000056\n",
      "batch_size:1024,num_workers:4,pin_memory:True,time:1.1148898000000003\n",
      "batch_size:1024,num_workers:4,pin_memory:False,time:1.0518237\n",
      "batch_size:1024,num_workers:16,pin_memory:True,time:0.9585374000000044\n",
      "batch_size:1024,num_workers:16,pin_memory:False,time:0.9946628000000004\n"
     ]
    }
   ],
   "source": [
    "import torch.utils.data as tud\n",
    "import time\n",
    "device = torch.device('cuda' if torch.cuda.is_available() else 'cpu')\n",
    "Batch_Size = [1, 4, 64, 1024]\n",
    "Num_Workers =  [0,1,4,16]\n",
    "Pin_Memory = [True, False]\n",
    "\n",
    "for batch_size in Batch_Size:\n",
    "    for num_workers in Num_Workers:\n",
    "        for pin_memory in Pin_Memory:\n",
    "            start = time.clock()\n",
    "            train_dataloader = tud.DataLoader(datasets.CIFAR10(\"./CIFAR_data\", train = True, \n",
    "                                                             download = False,\n",
    "                                                             transform = transforms.Compose([\n",
    "                                                                 transforms.ToTensor(),\n",
    "                                                                 transforms.Normalize((0.4734,), (0.2516,))])), \n",
    "                                              batch_size = batch_size, \n",
    "                                              shuffle = True, \n",
    "                                              pin_memory = pin_memory,\n",
    "                                              num_workers = num_workers)\n",
    "            print('batch_size:{},num_workers:{},pin_memory:{},time:{}'.format(batch_size,num_workers,pin_memory,time.clock() - start))"
   ]
  },
  {
   "cell_type": "markdown",
   "metadata": {},
   "source": [
    "## Calculate the mean and std of CIFAR-10’ training set within each RGB channel."
   ]
  },
  {
   "cell_type": "code",
   "execution_count": 72,
   "metadata": {},
   "outputs": [],
   "source": [
    "import numpy as np\n",
    "data = [d[0][0].data.cpu().numpy() for d in CIFAR_data]"
   ]
  },
  {
   "cell_type": "code",
   "execution_count": 73,
   "metadata": {},
   "outputs": [
    {
     "data": {
      "text/plain": [
       "0.49139968"
      ]
     },
     "execution_count": 73,
     "metadata": {},
     "output_type": "execute_result"
    }
   ],
   "source": [
    "np.mean(data)"
   ]
  },
  {
   "cell_type": "code",
   "execution_count": 74,
   "metadata": {},
   "outputs": [
    {
     "data": {
      "text/plain": [
       "0.24703233"
      ]
     },
     "execution_count": 74,
     "metadata": {},
     "output_type": "execute_result"
    }
   ],
   "source": [
    "np.std(data)"
   ]
  },
  {
   "cell_type": "code",
   "execution_count": 75,
   "metadata": {},
   "outputs": [],
   "source": [
    "import numpy as np\n",
    "data = [d[0][1].data.cpu().numpy() for d in CIFAR_data]"
   ]
  },
  {
   "cell_type": "code",
   "execution_count": 76,
   "metadata": {},
   "outputs": [
    {
     "data": {
      "text/plain": [
       "0.48215827"
      ]
     },
     "execution_count": 76,
     "metadata": {},
     "output_type": "execute_result"
    }
   ],
   "source": [
    "np.mean(data)"
   ]
  },
  {
   "cell_type": "code",
   "execution_count": 77,
   "metadata": {},
   "outputs": [
    {
     "data": {
      "text/plain": [
       "0.24348505"
      ]
     },
     "execution_count": 77,
     "metadata": {},
     "output_type": "execute_result"
    }
   ],
   "source": [
    "np.std(data)"
   ]
  },
  {
   "cell_type": "code",
   "execution_count": 78,
   "metadata": {},
   "outputs": [],
   "source": [
    "import numpy as np\n",
    "data = [d[0][2].data.cpu().numpy() for d in CIFAR_data]"
   ]
  },
  {
   "cell_type": "code",
   "execution_count": 79,
   "metadata": {},
   "outputs": [
    {
     "data": {
      "text/plain": [
       "0.44653124"
      ]
     },
     "execution_count": 79,
     "metadata": {},
     "output_type": "execute_result"
    }
   ],
   "source": [
    "np.mean(data)"
   ]
  },
  {
   "cell_type": "code",
   "execution_count": 80,
   "metadata": {},
   "outputs": [
    {
     "data": {
      "text/plain": [
       "0.26158768"
      ]
     },
     "execution_count": 80,
     "metadata": {},
     "output_type": "execute_result"
    }
   ],
   "source": [
    "np.std(data)"
   ]
  },
  {
   "cell_type": "markdown",
   "metadata": {},
   "source": [
    "## Image to character painting"
   ]
  },
  {
   "cell_type": "code",
   "execution_count": 81,
   "metadata": {},
   "outputs": [],
   "source": [
    "from PIL import Image\n",
    "char = list('1 ')\n",
    "img = Image.open(r'1.png')\n",
    "img = img.convert(\"RGB\")\n",
    "\n",
    "fp = open('character painting.txt', 'w')\n",
    "width, height = img.size\n",
    "\n",
    "for i in range(1, width):\n",
    "    for j in range(1, height):\n",
    "        R, G, B= img.getpixel((i, j))\n",
    "        gray = 0.2126 * R + 0.7152 * G + 0.0722 * B\n",
    "        unit = 256 / len(char)\n",
    "        \n",
    "        fp.write(char[int(gray//unit)])\n",
    "    fp.write('\\n')\n",
    "fp.close()"
   ]
  },
  {
   "cell_type": "markdown",
   "metadata": {},
   "source": [
    "整合以后可以得到"
   ]
  },
  {
   "cell_type": "code",
   "execution_count": 82,
   "metadata": {},
   "outputs": [],
   "source": [
    "img = Image.open('3.jpg')\n",
    "width, height = img.size"
   ]
  },
  {
   "cell_type": "code",
   "execution_count": 83,
   "metadata": {},
   "outputs": [
    {
     "data": {
      "text/plain": [
       "1080"
      ]
     },
     "execution_count": 83,
     "metadata": {},
     "output_type": "execute_result"
    }
   ],
   "source": [
    "width"
   ]
  },
  {
   "cell_type": "code",
   "execution_count": 84,
   "metadata": {},
   "outputs": [
    {
     "data": {
      "text/plain": [
       "1391"
      ]
     },
     "execution_count": 84,
     "metadata": {},
     "output_type": "execute_result"
    }
   ],
   "source": [
    "height"
   ]
  },
  {
   "cell_type": "code",
   "execution_count": 85,
   "metadata": {},
   "outputs": [
    {
     "data": {
      "image/png": "[encoded data removed]",
      "text/plain": [
       "<PIL.Image.Image image mode=RGB size=216x280 at 0x244C34E7550>"
      ]
     },
     "metadata": {},
     "output_type": "display_data"
    }
   ],
   "source": [
    "out = img.resize((216, 280))\n",
    "display(out)"
   ]
  },
  {
   "cell_type": "markdown",
   "metadata": {},
   "source": [
    "## Numpy exercises"
   ]
  },
  {
   "cell_type": "markdown",
   "metadata": {},
   "source": [
    "Consider a random 10x2 matrix representing cartesian coordinates, convert them to polar coordinates"
   ]
  },
  {
   "cell_type": "code",
   "execution_count": 86,
   "metadata": {},
   "outputs": [],
   "source": [
    "import numpy as np"
   ]
  },
  {
   "cell_type": "code",
   "execution_count": 87,
   "metadata": {},
   "outputs": [],
   "source": [
    "n = np.arange(0, 20, 1)# start at 0 count up by 2, stop before 30\n",
    "n = n.reshape(10, 2) # reshape array to be 3x5"
   ]
  },
  {
   "cell_type": "code",
   "execution_count": 88,
   "metadata": {},
   "outputs": [
    {
     "data": {
      "text/plain": [
       "array([[ 0,  1],\n",
       "       [ 2,  3],\n",
       "       [ 4,  5],\n",
       "       [ 6,  7],\n",
       "       [ 8,  9],\n",
       "       [10, 11],\n",
       "       [12, 13],\n",
       "       [14, 15],\n",
       "       [16, 17],\n",
       "       [18, 19]])"
      ]
     },
     "execution_count": 88,
     "metadata": {},
     "output_type": "execute_result"
    }
   ],
   "source": [
    "n"
   ]
  },
  {
   "cell_type": "code",
   "execution_count": 89,
   "metadata": {},
   "outputs": [
    {
     "name": "stderr",
     "output_type": "stream",
     "text": [
      "E:\\anaconda3\\lib\\site-packages\\ipykernel_launcher.py:7: RuntimeWarning: divide by zero encountered in long_scalars\n",
      "  import sys\n"
     ]
    }
   ],
   "source": [
    "import math\n",
    "def R(x,y):\n",
    "    r = np.sqrt(x*x+y*y)\n",
    "    return r\n",
    "\n",
    "def theta(x,y):\n",
    "    q = np.arctan(y/x) * 180 / math.pi\n",
    "    return q\n",
    "\n",
    "a = []\n",
    "for x,y in zip(n[:,0],n[:,1]):\n",
    "    a.append(R(x,y))\n",
    "    a.append(theta(x,y))\n",
    "\n",
    "a = np.array(a)\n",
    "a = a.reshape(10, 2)"
   ]
  },
  {
   "cell_type": "code",
   "execution_count": 90,
   "metadata": {},
   "outputs": [
    {
     "data": {
      "text/plain": [
       "array([[ 1.        , 90.        ],\n",
       "       [ 3.60555128, 56.30993247],\n",
       "       [ 6.40312424, 51.34019175],\n",
       "       [ 9.21954446, 49.39870535],\n",
       "       [12.04159458, 48.36646066],\n",
       "       [14.86606875, 47.72631099],\n",
       "       [17.69180601, 47.29061004],\n",
       "       [20.51828453, 46.97493401],\n",
       "       [23.34523506, 46.73570459],\n",
       "       [26.17250466, 46.5481577 ]])"
      ]
     },
     "execution_count": 90,
     "metadata": {},
     "output_type": "execute_result"
    }
   ],
   "source": [
    "a"
   ]
  },
  {
   "cell_type": "markdown",
   "metadata": {},
   "source": [
    "Create a 2D array subclass such that Z[i, j] == Z[j, i]."
   ]
  },
  {
   "cell_type": "code",
   "execution_count": 91,
   "metadata": {},
   "outputs": [],
   "source": [
    "X = np.random.rand(4**2).reshape(4, 4)\n",
    "X = np.triu(X)\n",
    "X += X.T - np.diag(X.diagonal())"
   ]
  },
  {
   "cell_type": "code",
   "execution_count": 92,
   "metadata": {},
   "outputs": [
    {
     "data": {
      "text/plain": [
       "array([[0.76625318, 0.01461397, 0.25870398, 0.90791938],\n",
       "       [0.01461397, 0.07231418, 0.5820314 , 0.35762013],\n",
       "       [0.25870398, 0.5820314 , 0.96118852, 0.46854144],\n",
       "       [0.90791938, 0.35762013, 0.46854144, 0.78409219]])"
      ]
     },
     "execution_count": 92,
     "metadata": {},
     "output_type": "execute_result"
    }
   ],
   "source": [
    "X"
   ]
  },
  {
   "cell_type": "markdown",
   "metadata": {},
   "source": [
    "Consider 2 sets of points P0, P1 describing lines (2d) and a set of points P, how to compute distance\n",
    "from each point j (P[j]) to each line i (P0[i],P1[i])?"
   ]
  },
  {
   "cell_type": "code",
   "execution_count": 93,
   "metadata": {},
   "outputs": [],
   "source": [
    "n = np.arange(0, 40, 2)# start at 0 count up by 2, stop before 30\n",
    "n = n.reshape(10, 2) # reshape array to be 3x5"
   ]
  },
  {
   "cell_type": "code",
   "execution_count": 94,
   "metadata": {},
   "outputs": [
    {
     "data": {
      "text/plain": [
       "array([[ 0,  2],\n",
       "       [ 4,  6],\n",
       "       [ 8, 10],\n",
       "       [12, 14],\n",
       "       [16, 18],\n",
       "       [20, 22],\n",
       "       [24, 26],\n",
       "       [28, 30],\n",
       "       [32, 34],\n",
       "       [36, 38]])"
      ]
     },
     "execution_count": 94,
     "metadata": {},
     "output_type": "execute_result"
    }
   ],
   "source": [
    "n"
   ]
  },
  {
   "cell_type": "markdown",
   "metadata": {},
   "source": [
    "斜率和截距"
   ]
  },
  {
   "cell_type": "code",
   "execution_count": 95,
   "metadata": {},
   "outputs": [
    {
     "data": {
      "text/plain": [
       "(1.0, 2.0)"
      ]
     },
     "execution_count": 95,
     "metadata": {},
     "output_type": "execute_result"
    }
   ],
   "source": [
    "k =(n[0][1]-n[1][1]) /(n[0][0]-n[1][0]) * 1.0\n",
    "b = n[0][1] - k * n[0][0]\n",
    "k,b"
   ]
  },
  {
   "cell_type": "code",
   "execution_count": 96,
   "metadata": {},
   "outputs": [
    {
     "data": {
      "text/plain": [
       "0.71"
      ]
     },
     "execution_count": 96,
     "metadata": {},
     "output_type": "execute_result"
    }
   ],
   "source": [
    "p = np.arange(0,2,1)\n",
    "distance = round(abs(k * p[0] - p[1]+ b) / np.sqrt(k ** 2 + 1), 2)\n",
    "distance"
   ]
  },
  {
   "cell_type": "markdown",
   "metadata": {},
   "source": [
    "## Bilinear Interpolation"
   ]
  },
  {
   "cell_type": "code",
   "execution_count": 97,
   "metadata": {},
   "outputs": [],
   "source": [
    "import math\n",
    "def BilinearInterpolation(A, P):\n",
    "    row_low = math.floor(P[0])-1\n",
    "    row_high = math.ceil(P[0])-1\n",
    "    col_low = math.floor(P[1])-1\n",
    "    col_high = math.ceil(P[1])-1\n",
    "    low_value = (A[row_high][col_low] - A[row_low][col_low]) * (P[0] -  math.floor(P[0])) + A[row_low][col_low]\n",
    "    high_value = (A[row_high][col_high] - A[row_low][col_high]) * (P[0] -  math.floor(P[0])) + A[row_low][col_high]\n",
    "    value = (high_value - low_value) * (P[1] -  math.floor(P[1])) + low_value\n",
    "    return value"
   ]
  },
  {
   "cell_type": "code",
   "execution_count": 98,
   "metadata": {},
   "outputs": [],
   "source": [
    "A =((110, 120, 130),(210, 220, 230),(310, 320, 330))"
   ]
  },
  {
   "cell_type": "code",
   "execution_count": 99,
   "metadata": {},
   "outputs": [
    {
     "data": {
      "text/plain": [
       "110"
      ]
     },
     "execution_count": 99,
     "metadata": {},
     "output_type": "execute_result"
    }
   ],
   "source": [
    "BilinearInterpolation(A, (1, 1))"
   ]
  },
  {
   "cell_type": "code",
   "execution_count": 100,
   "metadata": {},
   "outputs": [
    {
     "data": {
      "text/plain": [
       "275.0"
      ]
     },
     "execution_count": 100,
     "metadata": {},
     "output_type": "execute_result"
    }
   ],
   "source": [
    "BilinearInterpolation(A, (2.5, 2.5))"
   ]
  },
  {
   "cell_type": "markdown",
   "metadata": {},
   "source": [
    "## Cartesian product"
   ]
  },
  {
   "cell_type": "code",
   "execution_count": 101,
   "metadata": {},
   "outputs": [],
   "source": [
    "def combine(l1, l2):\n",
    "        r = []\n",
    "        a = len(l1)\n",
    "        b = len(l2)\n",
    "        if a == 0:\n",
    "            return l2\n",
    "        if b == 0:\n",
    "            return l1\n",
    "\n",
    "        for i in range(a):\n",
    "            for j in range(b):\n",
    "                m = l1[i] + l2[j]\n",
    "                r.append(m)\n",
    "        return r\n",
    "\n",
    "def ls_reshape(ls):\n",
    "    a = []\n",
    "    for ele in ls:\n",
    "        a.append([ele])\n",
    "    return a"
   ]
  },
  {
   "cell_type": "code",
   "execution_count": 102,
   "metadata": {},
   "outputs": [
    {
     "data": {
      "text/plain": [
       "[[1, 4, 6],\n",
       " [1, 4, 7],\n",
       " [1, 5, 6],\n",
       " [1, 5, 7],\n",
       " [2, 4, 6],\n",
       " [2, 4, 7],\n",
       " [2, 5, 6],\n",
       " [2, 5, 7],\n",
       " [3, 4, 6],\n",
       " [3, 4, 7],\n",
       " [3, 5, 6],\n",
       " [3, 5, 7]]"
      ]
     },
     "execution_count": 102,
     "metadata": {},
     "output_type": "execute_result"
    }
   ],
   "source": [
    "a = [1, 2, 3] \n",
    "b = [4, 5] \n",
    "c = [6, 7]\n",
    "\n",
    "a = ls_reshape(a)\n",
    "b = ls_reshape(b)\n",
    "c = ls_reshape(c)\n",
    "\n",
    "start = [a, b, c]\n",
    "result = []\n",
    "\n",
    "for ele in start:\n",
    "    result = combine(result, ele)\n",
    "    \n",
    "result"
   ]
  },
  {
   "cell_type": "markdown",
   "metadata": {},
   "source": [
    "## Extracting a subpart of an array"
   ]
  },
  {
   "cell_type": "code",
   "execution_count": 103,
   "metadata": {},
   "outputs": [],
   "source": [
    "import numpy as np\n",
    "def extract(Z, shape, fill, position):\n",
    "    P  = np.array(list(position)).astype(int)\n",
    "    Z_temp = np.array(list(Z.shape)).astype(int)\n",
    "    \n",
    "    Result = np.ones(shape, dtype = Z.dtype) * fill\n",
    "    R_temp = np.array(list(Result.shape)).astype(int)\n",
    "    \n",
    "    Result_start = np.zeros((len(shape),)).astype(int)\n",
    "    Result_stop  = np.array(list(shape)).astype(int)\n",
    "    \n",
    "    Z_start = (P - R_temp // 2)\n",
    "    Z_stop  = (P + R_temp // 2) + R_temp % 2\n",
    "\n",
    "    Result_start = (Result_start - np.minimum(Z_start,0)).tolist()\n",
    "    Z_start = (np.maximum(Z_start,0)).tolist()\n",
    "    \n",
    "    Result_stop = np.maximum(Result_start, (Result_stop - np.maximum(Z_stop-Z_temp,0))).tolist()\n",
    "    Z_stop = (np.minimum(Z_stop,Z_temp)).tolist()\n",
    "\n",
    "    r = [slice(start,stop) for start,stop in zip(Result_start, Result_stop)]\n",
    "    z = [slice(start,stop) for start,stop in zip(Z_start, Z_stop)]\n",
    "    \n",
    "    Result[r] = Z[z]\n",
    "    return Result\n"
   ]
  },
  {
   "cell_type": "code",
   "execution_count": 104,
   "metadata": {},
   "outputs": [
    {
     "data": {
      "text/plain": [
       "array([[7, 0, 3, 8, 8],\n",
       "       [1, 3, 1, 7, 2],\n",
       "       [8, 5, 2, 7, 4],\n",
       "       [5, 4, 4, 9, 3],\n",
       "       [4, 3, 1, 9, 1]])"
      ]
     },
     "execution_count": 104,
     "metadata": {},
     "output_type": "execute_result"
    }
   ],
   "source": [
    "Z =  np.random.randint(0, 10, (5, 5))\n",
    "shape = (4,4)\n",
    "fill  = 0\n",
    "position = (1,1)\n",
    "Z"
   ]
  },
  {
   "cell_type": "code",
   "execution_count": 105,
   "metadata": {},
   "outputs": [
    {
     "name": "stderr",
     "output_type": "stream",
     "text": [
      "E:\\anaconda3\\lib\\site-packages\\ipykernel_launcher.py:24: FutureWarning: Using a non-tuple sequence for multidimensional indexing is deprecated; use `arr[tuple(seq)]` instead of `arr[seq]`. In the future this will be interpreted as an array index, `arr[np.array(seq)]`, which will result either in an error or a different result.\n"
     ]
    },
    {
     "data": {
      "text/plain": [
       "array([[0, 0, 0, 0],\n",
       "       [0, 7, 0, 3],\n",
       "       [0, 1, 3, 1],\n",
       "       [0, 8, 5, 2]])"
      ]
     },
     "execution_count": 105,
     "metadata": {},
     "output_type": "execute_result"
    }
   ],
   "source": [
    "extract(Z, shape, fill, position)"
   ]
  },
  {
   "cell_type": "markdown",
   "metadata": {},
   "source": [
    "## Matrix operations"
   ]
  },
  {
   "cell_type": "markdown",
   "metadata": {},
   "source": [
    "Please implement following matrix (just 2D) operations without numpy"
   ]
  },
  {
   "cell_type": "markdown",
   "metadata": {},
   "source": [
    "- add"
   ]
  },
  {
   "cell_type": "code",
   "execution_count": 106,
   "metadata": {},
   "outputs": [],
   "source": [
    "def add(a, b):\n",
    "    m = len(a)\n",
    "    n = len(a[0])\n",
    "    result = []\n",
    "    for i in range(m):\n",
    "        r = []\n",
    "        for j in range(n):\n",
    "            r.append(a[i][j] + b[i][j])\n",
    "        result.append(r)\n",
    "    return result"
   ]
  },
  {
   "cell_type": "markdown",
   "metadata": {},
   "source": [
    "- subtract"
   ]
  },
  {
   "cell_type": "code",
   "execution_count": 107,
   "metadata": {},
   "outputs": [],
   "source": [
    "def subtract(a, b):\n",
    "    m = len(a)\n",
    "    n = len(a[0])\n",
    "    result = []\n",
    "    for i in range(m):\n",
    "        r = []\n",
    "        for j in range(n):\n",
    "            r.append(a[i][j] - b[i][j])\n",
    "        result.append(r)\n",
    "    return result"
   ]
  },
  {
   "cell_type": "markdown",
   "metadata": {},
   "source": [
    "- scalar multiply"
   ]
  },
  {
   "cell_type": "code",
   "execution_count": 108,
   "metadata": {},
   "outputs": [],
   "source": [
    "def scalar_multiply(a, x):\n",
    "    m = len(a)\n",
    "    n = len(a[0])\n",
    "    result = []\n",
    "    for i in range(m):\n",
    "        r = []\n",
    "        for j in range(n):\n",
    "            r.append(a[i][j] * x)\n",
    "        result.append(r)\n",
    "    return result"
   ]
  },
  {
   "cell_type": "markdown",
   "metadata": {},
   "source": [
    "- multiply"
   ]
  },
  {
   "cell_type": "code",
   "execution_count": 109,
   "metadata": {},
   "outputs": [],
   "source": [
    "def multiply(a, b):\n",
    "    m = len(a)\n",
    "    p = len(a[0])\n",
    "    n = len(b[0])\n",
    "    result =  [ [0] * n for i in range(m)]\n",
    "    for i in range(m):\n",
    "        for j in range(n):\n",
    "            s = 0\n",
    "            for k in range(p):\n",
    "                s = s + a[i][k] * b[k][j]\n",
    "            result[i][j] = s\n",
    "    return result"
   ]
  },
  {
   "cell_type": "markdown",
   "metadata": {},
   "source": [
    "- identity"
   ]
  },
  {
   "cell_type": "code",
   "execution_count": 110,
   "metadata": {},
   "outputs": [],
   "source": [
    "def identity(x):\n",
    "    result = []\n",
    "    for i in range(x):\n",
    "        r = []\n",
    "        for j in range(x):\n",
    "            if i == j:\n",
    "                r.append(1)\n",
    "            else:\n",
    "                r.append(0)\n",
    "        result.append(r)\n",
    "    return result"
   ]
  },
  {
   "cell_type": "markdown",
   "metadata": {},
   "source": [
    "- transpose"
   ]
  },
  {
   "cell_type": "code",
   "execution_count": 111,
   "metadata": {},
   "outputs": [],
   "source": [
    "def transpose(a):\n",
    "    m = len(a)\n",
    "    n = len(a[0])\n",
    "    for i in range(m):\n",
    "        for j in range(i+1, n):\n",
    "            temp = a[i][j]\n",
    "            a[i][j] = a[j][i]\n",
    "            a[j][i] = temp\n",
    "    return a"
   ]
  },
  {
   "cell_type": "markdown",
   "metadata": {},
   "source": [
    "- inverse"
   ]
  },
  {
   "cell_type": "code",
   "execution_count": 112,
   "metadata": {},
   "outputs": [],
   "source": [
    "def inverse(a):\n",
    "    n = len(a)\n",
    "    new = identity(n)\n",
    "    swap = []\n",
    "    l1 = []\n",
    "    for i in range(n):\n",
    "        swap.append(i)\n",
    "        l1.append([])\n",
    "        for j in range(n):\n",
    "            l1[i].append(0)\n",
    "\n",
    "    for i in range(n):\n",
    "        max_row = a[i][i]\n",
    "        row = i\n",
    "        for j in range(i,n):\n",
    "            if a[j][i] >= max_row:\n",
    "                max_row = a[j][i]\n",
    "                row = j\n",
    "        swap[i] = row\n",
    "        if row != i:\n",
    "            for j in range(0,n):\n",
    "                a[i][j],a[row][j] = a[row][j],a[i][j]\n",
    "        for j in range(i+1,n):\n",
    "            if a[j][i] != 0:\n",
    "                l1[j][i] = a[j][i] / a[i][i]\n",
    "                for k in range(0,n):\n",
    "                    a[j][k] = a[j][k] - (l1[j][i] * a[i][k])\n",
    "\n",
    "    long = len(a)-1\n",
    "    l2 = []\n",
    "    for i in range(n):\n",
    "        l2.append([])\n",
    "        for j in range(n):\n",
    "            l2[i].append(0)\n",
    "\n",
    "    for i in range(n-1):\n",
    "        for j in range(long-i):\n",
    "            if a[long-i-j-1][long-i] != 0 and a[long-i][long-i] != 0:\n",
    "                l2[long-i-j-1][long-i] = a[long-i-j-1][long-i] / a[long-i][long-i]\n",
    "                for k in range(n):\n",
    "                    a[long-i-j-1][k] = a[long-i-j-1][k] - l2[long-i-j-1][long-i] * a[long-i][k]\n",
    "\n",
    "    l3 = []\n",
    "    for i in range(n):\n",
    "        l3.append(a[i][i])\n",
    "\n",
    "    for i in range(n):\n",
    "        if swap[i] != i:\n",
    "            new[i],new[swap[i]] = new[swap[i]],new[i]\n",
    "        for j in range(i+1,n):\n",
    "            for k in range(0,n):\n",
    "                if l1[j][i] != 0:\n",
    "                    new[j][k] = new[j][k] - l1[j][i] * new[i][k]   \n",
    "    for i in range(0,n-1):\n",
    "        for j in range(0,n-i-1):\n",
    "            if l2[n-1-i-j-1][n-1-i] != 0:\n",
    "                for k in range(0,n):\n",
    "                    new[n-1-i-j-1][k] = new[n-1-i-j-1][k] - l2[n-1-i-j-1][n-i-1] * new[n-1-i][k]\n",
    "    for i in range(0,n):\n",
    "        for j in range(0,n):\n",
    "            new[i][j] = new[i][j] / l3[i]\n",
    "    return new"
   ]
  },
  {
   "cell_type": "code",
   "execution_count": 113,
   "metadata": {},
   "outputs": [],
   "source": [
    "matrix_a = [[12, 10], [3, 9]]\n",
    "matrix_b = [[3, 4], [7, 4]]\n",
    "matrix_c = [[11, 12, 13, 14], [21, 22, 23, 24], [31, 32, 33, 34], [41, 42, 43, 44]]\n",
    "matrix_d = [[3, 0, 2], [2, 0, -2], [0, 1, 1]]"
   ]
  },
  {
   "cell_type": "code",
   "execution_count": 114,
   "metadata": {},
   "outputs": [
    {
     "data": {
      "text/plain": [
       "[[15, 14], [10, 13]]"
      ]
     },
     "execution_count": 114,
     "metadata": {},
     "output_type": "execute_result"
    }
   ],
   "source": [
    "add(matrix_a, matrix_b)"
   ]
  },
  {
   "cell_type": "code",
   "execution_count": 115,
   "metadata": {},
   "outputs": [
    {
     "data": {
      "text/plain": [
       "[[9, 6], [-4, 5]]"
      ]
     },
     "execution_count": 115,
     "metadata": {},
     "output_type": "execute_result"
    }
   ],
   "source": [
    "subtract(matrix_a, matrix_b)"
   ]
  },
  {
   "cell_type": "code",
   "execution_count": 116,
   "metadata": {},
   "outputs": [
    {
     "data": {
      "text/plain": [
       "[[9, 12], [21, 12]]"
      ]
     },
     "execution_count": 116,
     "metadata": {},
     "output_type": "execute_result"
    }
   ],
   "source": [
    "scalar_multiply(matrix_b, 3)"
   ]
  },
  {
   "cell_type": "code",
   "execution_count": 117,
   "metadata": {},
   "outputs": [
    {
     "data": {
      "text/plain": [
       "[[106, 88], [72, 48]]"
      ]
     },
     "execution_count": 117,
     "metadata": {},
     "output_type": "execute_result"
    }
   ],
   "source": [
    "multiply(matrix_a, matrix_b)"
   ]
  },
  {
   "cell_type": "code",
   "execution_count": 118,
   "metadata": {},
   "outputs": [
    {
     "data": {
      "text/plain": [
       "[[1, 0, 0], [0, 1, 0], [0, 0, 1]]"
      ]
     },
     "execution_count": 118,
     "metadata": {},
     "output_type": "execute_result"
    }
   ],
   "source": [
    "identity(3)"
   ]
  },
  {
   "cell_type": "code",
   "execution_count": 119,
   "metadata": {},
   "outputs": [
    {
     "data": {
      "text/plain": [
       "[[11, 21, 31, 41], [12, 22, 32, 42], [13, 23, 33, 43], [14, 24, 34, 44]]"
      ]
     },
     "execution_count": 119,
     "metadata": {},
     "output_type": "execute_result"
    }
   ],
   "source": [
    "transpose(matrix_c)"
   ]
  },
  {
   "cell_type": "code",
   "execution_count": 120,
   "metadata": {},
   "outputs": [
    {
     "data": {
      "text/plain": [
       "[[0.19999999999999998, 0.20000000000000004, 0.0],\n",
       " [-0.2, 0.30000000000000004, 1.0],\n",
       " [0.2, -0.30000000000000004, -0.0]]"
      ]
     },
     "execution_count": 120,
     "metadata": {},
     "output_type": "execute_result"
    }
   ],
   "source": [
    "inverse(matrix_d)"
   ]
  },
  {
   "cell_type": "markdown",
   "metadata": {},
   "source": [
    "## Greatest common divisor"
   ]
  },
  {
   "cell_type": "code",
   "execution_count": 121,
   "metadata": {},
   "outputs": [],
   "source": [
    "def GCD(a,b):\n",
    "    if a == 0:\n",
    "        return b\n",
    "    if b == 0:\n",
    "        return a\n",
    "    \n",
    "    a = abs(a)\n",
    "    b = abs(b)\n",
    "    while a != b:\n",
    "        if a > b:\n",
    "            a = a - b\n",
    "        else:\n",
    "            b = b - a\n",
    "    return a"
   ]
  },
  {
   "cell_type": "code",
   "execution_count": 122,
   "metadata": {},
   "outputs": [
    {
     "data": {
      "text/plain": [
       "1"
      ]
     },
     "execution_count": 122,
     "metadata": {},
     "output_type": "execute_result"
    }
   ],
   "source": [
    "GCD(3, 5)"
   ]
  },
  {
   "cell_type": "code",
   "execution_count": 123,
   "metadata": {},
   "outputs": [
    {
     "data": {
      "text/plain": [
       "3"
      ]
     },
     "execution_count": 123,
     "metadata": {},
     "output_type": "execute_result"
    }
   ],
   "source": [
    "GCD(6, 3)"
   ]
  },
  {
   "cell_type": "code",
   "execution_count": 124,
   "metadata": {},
   "outputs": [
    {
     "data": {
      "text/plain": [
       "2"
      ]
     },
     "execution_count": 124,
     "metadata": {},
     "output_type": "execute_result"
    }
   ],
   "source": [
    "GCD(-2, 6)"
   ]
  },
  {
   "cell_type": "code",
   "execution_count": 125,
   "metadata": {},
   "outputs": [
    {
     "data": {
      "text/plain": [
       "3"
      ]
     },
     "execution_count": 125,
     "metadata": {},
     "output_type": "execute_result"
    }
   ],
   "source": [
    "GCD(0, 3)"
   ]
  },
  {
   "cell_type": "markdown",
   "metadata": {},
   "source": [
    "## Find all consecutive positive number sequences whose sum is N"
   ]
  },
  {
   "cell_type": "code",
   "execution_count": 126,
   "metadata": {},
   "outputs": [],
   "source": [
    "def sum_all(N):\n",
    "    ls = [i for i in range(N)]\n",
    "    end = int(N/2)+1\n",
    "    result = []\n",
    "    for i in range(1, end+1):\n",
    "        for n in range(1, end+1):\n",
    "            target = 1/2 * n * n + (i - 1/2) * n\n",
    "            if abs(target - N) < 1e-6:\n",
    "                result.append(ls[i:i+n])\n",
    "    return result"
   ]
  },
  {
   "cell_type": "code",
   "execution_count": 127,
   "metadata": {},
   "outputs": [
    {
     "data": {
      "text/plain": [
       "[[9, 10, 11, 12, 13, 14, 15, 16], [18, 19, 20, 21, 22]]"
      ]
     },
     "execution_count": 127,
     "metadata": {},
     "output_type": "execute_result"
    }
   ],
   "source": [
    "sum_all(100)"
   ]
  },
  {
   "cell_type": "code",
   "execution_count": 128,
   "metadata": {},
   "outputs": [
    {
     "data": {
      "text/plain": [
       "[[28,\n",
       "  29,\n",
       "  30,\n",
       "  31,\n",
       "  32,\n",
       "  33,\n",
       "  34,\n",
       "  35,\n",
       "  36,\n",
       "  37,\n",
       "  38,\n",
       "  39,\n",
       "  40,\n",
       "  41,\n",
       "  42,\n",
       "  43,\n",
       "  44,\n",
       "  45,\n",
       "  46,\n",
       "  47,\n",
       "  48,\n",
       "  49,\n",
       "  50,\n",
       "  51,\n",
       "  52],\n",
       " [55, 56, 57, 58, 59, 60, 61, 62, 63, 64, 65, 66, 67, 68, 69, 70],\n",
       " [198, 199, 200, 201, 202]]"
      ]
     },
     "execution_count": 128,
     "metadata": {},
     "output_type": "execute_result"
    }
   ],
   "source": [
    "sum_all(1000)"
   ]
  },
  {
   "cell_type": "code",
   "execution_count": 129,
   "metadata": {},
   "outputs": [
    {
     "data": {
      "text/plain": [
       "[0, 1, 2, 3, 4, 6, 8]"
      ]
     },
     "execution_count": 129,
     "metadata": {},
     "output_type": "execute_result"
    }
   ],
   "source": [
    "ls"
   ]
  },
  {
   "cell_type": "markdown",
   "metadata": {},
   "source": [
    "## Password checking"
   ]
  },
  {
   "cell_type": "code",
   "execution_count": 130,
   "metadata": {},
   "outputs": [],
   "source": [
    "import re\n",
    "def step1(string):\n",
    "    pattern = r'[a-z]'\n",
    "    res = re.search(pattern, string)\n",
    "    if res:\n",
    "        return 1\n",
    "    else:\n",
    "        return 0\n",
    "    \n",
    "def step2(string):\n",
    "    pattern = r'[0-9]'\n",
    "    res = re.search(pattern, string)\n",
    "    if res:\n",
    "        return 1\n",
    "    else:\n",
    "        return 0\n",
    "    \n",
    "def step3(string):\n",
    "    pattern = r'[A-Z]'\n",
    "    res = re.search(pattern, string)\n",
    "    if res:\n",
    "        return 1\n",
    "    else:\n",
    "        return 0\n",
    "\n",
    "def step4(string):\n",
    "    pattern = r'[$#@]'\n",
    "    res = re.search(pattern, string)\n",
    "    if res:\n",
    "        return 1\n",
    "    else:\n",
    "        return 0\n",
    "    \n",
    "def Password_checking(passwords):\n",
    "    ls = passwords.split(',')\n",
    "    r = []\n",
    "    for ele in ls:\n",
    "        if len(ele) <= 12 and len(ele)>=6:\n",
    "            if step1(ele) and step2(ele) and step3(ele) and step4(ele):\n",
    "                r.append(ele)\n",
    "    return ','.join(r)"
   ]
  },
  {
   "cell_type": "code",
   "execution_count": 131,
   "metadata": {},
   "outputs": [],
   "source": [
    "passwords = 'ABd1234@1,a F1#,2w3E*,2We3345'"
   ]
  },
  {
   "cell_type": "code",
   "execution_count": 132,
   "metadata": {},
   "outputs": [
    {
     "data": {
      "text/plain": [
       "'ABd1234@1'"
      ]
     },
     "execution_count": 132,
     "metadata": {},
     "output_type": "execute_result"
    }
   ],
   "source": [
    "Password_checking(passwords)"
   ]
  }
 ],
 "metadata": {
  "kernelspec": {
   "display_name": "Python 3",
   "language": "python",
   "name": "python3"
  },
  "language_info": {
   "codemirror_mode": {
    "name": "ipython",
    "version": 3
   },
   "file_extension": ".py",
   "mimetype": "text/x-python",
   "name": "python",
   "nbconvert_exporter": "python",
   "pygments_lexer": "ipython3",
   "version": "3.6.5"
  },
  "toc": {
   "base_numbering": 1,
   "nav_menu": {},
   "number_sections": true,
   "sideBar": true,
   "skip_h1_title": false,
   "title_cell": "Table of Contents",
   "title_sidebar": "Contents",
   "toc_cell": false,
   "toc_position": {},
   "toc_section_display": true,
   "toc_window_display": false
  }
 },
 "nbformat": 4,
 "nbformat_minor": 2
}
